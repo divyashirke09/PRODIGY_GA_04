{
 "cells": [
  {
   "cell_type": "code",
   "execution_count": null,
   "id": "29c8f146",
   "metadata": {},
   "outputs": [],
   "source": [
    "# 🧠 Prodigy Infotech Internship - Task 04\n",
    "# 🎨 Image-to-Image Translation with cGAN (pix2pix)"
   ]
  },
  {
   "cell_type": "code",
   "execution_count": null,
   "id": "caf46a83",
   "metadata": {},
   "outputs": [],
   "source": [
    "## ✅ Step 1: Install Required Libraries\n",
    "!pip install diffusers transformers accelerate safetensors\n",
    "!pip install torch torchvision torchaudio --index-url https://download.pytorch.org/whl/cu118"
   ]
  },
  {
   "cell_type": "code",
   "execution_count": null,
   "id": "5e35c6f7",
   "metadata": {},
   "outputs": [],
   "source": [
    "## ✅ Step 2: Import Libraries\n",
    "from diffusers import StableDiffusionInpaintPipeline\n",
    "from PIL import Image\n",
    "import torch\n",
    "import requests\n",
    "from io import BytesIO"
   ]
  },
  {
   "cell_type": "code",
   "execution_count": null,
   "id": "dc307706",
   "metadata": {},
   "outputs": [],
   "source": [
    "## ✅ Step 3: Load a Sample Sketch Image\n",
    "url = \"https://huggingface.co/datasets/hf-internal-testing/diffusers-images/resolve/main/pix2pix/sketch.png\"\n",
    "response = requests.get(url)\n",
    "input_image = Image.open(BytesIO(response.content)).convert(\"RGB\")\n",
    "input_image = input_image.resize((512, 512))"
   ]
  },
  {
   "cell_type": "code",
   "execution_count": null,
   "id": "f09b07fb",
   "metadata": {},
   "outputs": [],
   "source": [
    "## ✅ Step 4: Load the Pix2Pix Model (Simulated using Stable Diffusion Inpainting)\n",
    "pipe = StableDiffusionInpaintPipeline.from_pretrained(\n",
    "    \"runwayml/stable-diffusion-inpainting\",\n",
    "    torch_dtype=torch.float16\n",
    ").to(\"cuda\")"
   ]
  },
  {
   "cell_type": "code",
   "execution_count": null,
   "id": "410c69eb",
   "metadata": {},
   "outputs": [],
   "source": [
    "## ✅ Step 5: Run Inpainting on the Image\n",
    "prompt = \"Convert sketch to realistic scenery\"\n",
    "output = pipe(prompt=prompt, image=input_image, mask_image=input_image).images[0]"
   ]
  },
  {
   "cell_type": "code",
   "execution_count": null,
   "id": "df8f8516",
   "metadata": {},
   "outputs": [],
   "source": [
    "## ✅ Step 6: Save and Show Output\n",
    "output.save(\"pix2pix_output.png\")\n",
    "output.show()"
   ]
  }
 ],
 "metadata": {
  "language_info": {
   "name": "python"
  }
 },
 "nbformat": 4,
 "nbformat_minor": 5
}
